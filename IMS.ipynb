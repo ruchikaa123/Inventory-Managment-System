{
  "nbformat": 4,
  "nbformat_minor": 0,
  "metadata": {
    "colab": {
      "name": "IMS.ipynb",
      "provenance": []
    },
    "kernelspec": {
      "name": "python3",
      "display_name": "Python 3"
    },
    "language_info": {
      "name": "python"
    }
  },
  "cells": [
    {
      "cell_type": "code",
      "metadata": {
        "id": "VUikFt1oUds7"
      },
      "source": [
        "records = {101:{'name':'sauce','price':50,'quantity':25,'brand':'everest','discount':10},\n",
        "           102:{'name':'water bottle','price':15,'quantity':100,'brand':'bisleri','discount':10},\n",
        "           103:{'name':'cake','price':500,'quantity':10,'brand':'parle','discount':10},\n",
        "           104:{'name':'cheese','price':15,'quantity':50,'brand':'amul','discount':10},\n",
        "           105:{'name':'chips','price':10,'quantity':100,'brand':'lays','discount':10},\n",
        "           106:{'name':'rice','price':500,'quantity':12,'brand':'basmati','discount':10},\n",
        "           107:{'name':'chocolate','price':45,'quantity':200,'brand':'cadbury','discount':10},\n",
        "           108:{'name':'biscuit','price':10,'quantity':100,'brand':'parle','discount':10},\n",
        "           109:{'name':'icecream','price':25,'quantity':50,'brand':'breyers','discount':10},\n",
        "           110:{'name':'oil','price':250,'quantity':20,'brand':'fortune','discount':10},\n",
        "           111:{'name':'pickle','price':55,'quantity':30,'brand':'swad','discount':10},\n",
        "           112:{'name':'cashew','price':120,'quantity':35,'brand':'cornitos','discount':10},\n",
        "           113:{'name':'almond','price':125,'quantity':35,'brand':'regency','discount':10},\n",
        "           114:{'name':'honey','price':50,'quantity':15,'brand':'dabar','discount':10},\n",
        "           115:{'name':'walnut','price':65,'quantity':35,'brand':'fisher','discount':10},\n",
        "           116:{'name':'raspberry','price':250,'quantity':20,'brand':'driscolls','discount':10},\n",
        "           117:{'name':'shampoo','price':59,'quantity':50,'brand':'himaliya','discount':10},\n",
        "           118:{'name':'pen','price':5,'quantity':100,'brand':'saino softek','discount':10},\n",
        "           119:{'name':'phone','price':10000,'quantity':15,'brand':'apple','discount':10},\n",
        "           120:{'name':'notebook','price':58,'quantity':50,'brand':'mahavir','discount':10},\n",
        "           121:{'name':'bodylotion','price':69,'quantity':25,'brand':'nivea','discount':10},\n",
        "           122:{'name':'sweets','price':140,'quantity':10,'brand':'haldirams','discount':10},\n",
        "           123:{'name':'meggie','price':10,'quantity':50,'brand':'meggie','discount':10},\n",
        "           124:{'name':'pasta','price':25,'quantity':50,'brand':'meggie','discount':10},\n",
        "           125:{'name':'soap','price':15,'quantity':80,'brand':'detole','discount':10},\n",
        "           126:{'name':'bulb','price':70,'quantity':25,'brand':'philips','discount':10},\n",
        "           127:{'name':'pista','price':500,'quantity':20,'brand':'nutraj','discount':10},\n",
        "           128:{'name':'tape','price':10,'quantity':50,'brand':'euro','discount':10},\n",
        "           129:{'name':'earpodes','price':12000,'quantity':20,'brand':'boat','discount':10},\n",
        "           130:{'name':'tv','price':65000,'quantity':5,'brand':'lg','discount':10}\n",
        "           }"
      ],
      "execution_count": 1,
      "outputs": []
    },
    {
      "cell_type": "code",
      "metadata": {
        "id": "MYfUQIINikc0"
      },
      "source": [
        "import json"
      ],
      "execution_count": 2,
      "outputs": []
    },
    {
      "cell_type": "code",
      "metadata": {
        "id": "YpBtzuzyoJF-"
      },
      "source": [
        "js = json.dumps(records)"
      ],
      "execution_count": 3,
      "outputs": []
    },
    {
      "cell_type": "code",
      "metadata": {
        "id": "j7RNYbkJrEQ8"
      },
      "source": [
        "fd = open(\"records.json\",'w')\n",
        "\n",
        "fd.write(js)\n",
        "\n",
        "fd.close()"
      ],
      "execution_count": 4,
      "outputs": []
    },
    {
      "cell_type": "code",
      "metadata": {
        "id": "rQU38XuLrj6G"
      },
      "source": [
        "fd = open(\"records.json\",'r')\n",
        "\n",
        "txt = fd.read()\n",
        "\n",
        "fd.close()"
      ],
      "execution_count": 5,
      "outputs": []
    },
    {
      "cell_type": "markdown",
      "metadata": {
        "id": "0jZGnHHgxHeC"
      },
      "source": [
        "# **Adding Items**"
      ]
    },
    {
      "cell_type": "code",
      "metadata": {
        "colab": {
          "base_uri": "https://localhost:8080/"
        },
        "id": "PgrAQOnHZwC-",
        "outputId": "33e69286-3a51-44a7-f66e-0a4fb40fc03d"
      },
      "source": [
        "total_new_item = int(input(\"Enter the Total new item: \"))\n",
        "while(total_new_item!=0):\n",
        "  prod_id = int(input(\"Enter product id:\"))\n",
        "  name = str(input(\"Enter name:\"))\n",
        "  price = int(input(\"Enter price:\"))\n",
        "  quantity = int(input(\"Enter quantity:\"))\n",
        "  brand = str(input(\"Enter brand:\"))\n",
        "  discount = int(input(\"Enter discount:\"))\n",
        "\n",
        "  records[prod_id] = {'name': name, 'price': price, 'quantity': quantity,'brand':brand,'discount':discount}\n",
        "  print(\"*****************************************\")\n",
        "  total_new_item-=1\n",
        "print(\"New items added to Inventory\")\n",
        "\n",
        "js = json.dumps(records)\n",
        "\n",
        "fd = open(\"records.json\",'w')\n",
        "fd.write(js)\n",
        "fd.close()"
      ],
      "execution_count": 6,
      "outputs": [
        {
          "output_type": "stream",
          "name": "stdout",
          "text": [
            "Enter the Total new item: 2\n",
            "Enter product id:131\n",
            "Enter name:laptop\n",
            "Enter price:90000\n",
            "Enter quantity:10\n",
            "Enter brand:apple\n",
            "Enter discount:10\n",
            "*****************************************\n",
            "Enter product id:132\n",
            "Enter name:watch\n",
            "Enter price:3000\n",
            "Enter quantity:25\n",
            "Enter brand:apple\n",
            "Enter discount:10\n",
            "*****************************************\n",
            "New items added to Inventory\n"
          ]
        }
      ]
    },
    {
      "cell_type": "markdown",
      "metadata": {
        "id": "k4NiRGZZxtzC"
      },
      "source": [
        "## **Purchasing Items**"
      ]
    },
    {
      "cell_type": "code",
      "metadata": {
        "colab": {
          "base_uri": "https://localhost:8080/"
        },
        "id": "4fP2UIcqexl4",
        "outputId": "1d9ff97c-a7c9-4632-b6b9-b90bfee03c13"
      },
      "source": [
        "Total_item = int(input(\"Enter the total itmes: \"))\n",
        "print(\"***************************\")\n",
        "A=0\n",
        "while(Total_item!=0) :\n",
        "  item_id  = int(input(\"Enter the item_Id: \"))\n",
        "  item_quantity = int(input(\"Enter the quantity: \"))\n",
        "  print(\"item: \", records[item_id ]['name'])\n",
        "  print(\"Price: \", records[item_id ]['price'])\n",
        "  B = (records[item_id ]['price']-(records[item_id ]['price']*records[item_id ]['discount'])/100)*item_quantity\n",
        "  print(\"Billing Amount: \",B)\n",
        "  A+=B\n",
        "  print(\"***********************\")\n",
        "  records[item_id ]['quantity'] = records[item_id ]['quantity'] - item_quantity\n",
        "  Total_item-=1\n",
        "print(\"Total Billing Amount:\",A)\n",
        "print(\"****************Thankyou-Visit Again******************\")"
      ],
      "execution_count": 7,
      "outputs": [
        {
          "output_type": "stream",
          "name": "stdout",
          "text": [
            "Enter the total itmes: 2\n",
            "***************************\n",
            "Enter the item_Id: 115\n",
            "Enter the quantity: 3\n",
            "item:  walnut\n",
            "Price:  65\n",
            "Billing Amount:  175.5\n",
            "***********************\n",
            "Enter the item_Id: 128\n",
            "Enter the quantity: 3\n",
            "item:  tape\n",
            "Price:  10\n",
            "Billing Amount:  27.0\n",
            "***********************\n",
            "Total Billing Amount: 202.5\n",
            "****************Thankyou-Visit Again******************\n"
          ]
        }
      ]
    },
    {
      "cell_type": "code",
      "metadata": {
        "id": "mDHbAedWv-CQ"
      },
      "source": [
        "js = json.dumps(records)\n",
        "\n",
        "fd = open(\"product.json\",'w')\n",
        "fd.write(js)\n",
        "fd.close()"
      ],
      "execution_count": 8,
      "outputs": []
    },
    {
      "cell_type": "code",
      "metadata": {
        "id": "xfoxEyfJyHE5"
      },
      "source": [
        "\n",
        "#{'product_id' : item_id, 'quantity' : item_quantity, 'amount': (records[item_id ]['price']-(records[item_id ]['price']*records[item_id ]['discount'])/100)*item_quantity}\n"
      ],
      "execution_count": 9,
      "outputs": []
    },
    {
      "cell_type": "code",
      "metadata": {
        "id": "gRaTgr1mg__z"
      },
      "source": [
        "#n = str(Total_item)\n",
        "#i=1\n",
        "#for i in range(Total_item):\n",
        "sales = {i : {'product_id' : item_id, 'qn' : item_quantity, 'amount': (records[item_id ]['price']-(records[item_id ]['price']*records[item_id ]['discount'])/100)*item_quantity}}\n",
        "  #i+=1"
      ],
      "execution_count": 17,
      "outputs": []
    },
    {
      "cell_type": "code",
      "metadata": {
        "id": "8QMx0G6FNUYd"
      },
      "source": [
        "js = json.dumps(sales)\n",
        "\n",
        "fd = open(\"sales.json\",'w')\n",
        "fd.write(js)\n",
        "fd.close()\n"
      ],
      "execution_count": 19,
      "outputs": []
    }
  ]
}